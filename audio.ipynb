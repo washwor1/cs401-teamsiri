{
 "cells": [
  {
   "cell_type": "code",
   "execution_count": 10,
   "metadata": {},
   "outputs": [],
   "source": [
    "import IPython.display as ipd\n",
    "import numpy as np\n",
    "\n",
    "pertubation = np.loadtxt(\"pertubation.txt\")\n",
    "original = np.loadtxt(\"original.txt\")\n",
    "\n",
    "p = ipd.Audio(pertubation, rate=16000)\n",
    "\n",
    "\n",
    "with open('pertubation.wav', 'wb') as f:\n",
    "    f.write(p.data)\n"
   ]
  },
  {
   "cell_type": "code",
   "execution_count": 11,
   "metadata": {},
   "outputs": [],
   "source": [
    "o = ipd.Audio(original, rate=16000)\n",
    "\n",
    "\n",
    "with open('original.wav', 'wb') as f:\n",
    "    f.write(o.data)\n",
    "\n"
   ]
  }
 ],
 "metadata": {
  "kernelspec": {
   "display_name": "Python 3",
   "language": "python",
   "name": "python3"
  },
  "language_info": {
   "codemirror_mode": {
    "name": "ipython",
    "version": 3
   },
   "file_extension": ".py",
   "mimetype": "text/x-python",
   "name": "python",
   "nbconvert_exporter": "python",
   "pygments_lexer": "ipython3",
   "version": "3.10.6"
  },
  "orig_nbformat": 4
 },
 "nbformat": 4,
 "nbformat_minor": 2
}
